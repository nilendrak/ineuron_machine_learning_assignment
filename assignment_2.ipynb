{
 "cells": [
  {
   "cell_type": "markdown",
   "metadata": {},
   "source": [
    "## Session 2"
   ]
  },
  {
   "cell_type": "markdown",
   "metadata": {},
   "source": [
    "### Assignment 2"
   ]
  },
  {
   "cell_type": "markdown",
   "metadata": {},
   "source": [
    "### Task 1.1"
   ]
  },
  {
   "cell_type": "code",
   "execution_count": 1,
   "metadata": {},
   "outputs": [
    {
     "data": {
      "text/plain": [
       "25"
      ]
     },
     "execution_count": 1,
     "metadata": {},
     "output_type": "execute_result"
    }
   ],
   "source": [
    "from inspect import signature\n",
    "numbers = [1,2,3,4,5]\n",
    "def cum_sum(first,second):\n",
    "    return first + second\n",
    "\n",
    "def myreduce(funct, iter_list,start_value=0):\n",
    "    '''\n",
    "    start_value: optional. if give, will be used as first value to calculate sum\n",
    "    funct : function to use for reduce operation\n",
    "    iter_list : iterable list\n",
    "    return : cummulative sum\n",
    "    '''\n",
    "    #sig = signature(myreduce)\n",
    "    #total_param = len(sig.parameters)\n",
    "    #print(total_param)\n",
    "    sum_val = start_value\n",
    "    for i in range(len(iter_list)):\n",
    "        sum_val = funct(sum_val, iter_list[i])\n",
    "    return sum_val\n",
    "myreduce(cum_sum,numbers,10)\n",
    "    "
   ]
  },
  {
   "cell_type": "markdown",
   "metadata": {},
   "source": [
    "### Task 1.2"
   ]
  },
  {
   "cell_type": "code",
   "execution_count": 2,
   "metadata": {},
   "outputs": [
    {
     "data": {
      "text/plain": [
       "[90, 85, 87, 67, 63]"
      ]
     },
     "execution_count": 2,
     "metadata": {},
     "output_type": "execute_result"
    }
   ],
   "source": [
    "scores = [20,90,85,87,19,24,67,59,63,34,45]\n",
    "def first_class(data):\n",
    "    return data > 60\n",
    "\n",
    "def myfilter(arg1,arg2):\n",
    "    '''\n",
    "    arg1: funtion on which the filter will work\n",
    "    arg2: an iterable , on which the the function need to apply\n",
    "    return: a list\n",
    "    '''\n",
    "    mylist = []\n",
    "    data = arg2\n",
    "    for i in range(len(data)):\n",
    "        temp = arg1(data[i])\n",
    "        if temp == True:\n",
    "            mylist.append(data[i])\n",
    "    return mylist\n",
    "myfilter(first_class,scores)"
   ]
  },
  {
   "cell_type": "markdown",
   "metadata": {},
   "source": [
    "### TAsk 2.1\n",
    "* ['A','C','A','D','G','I','L','D']\n",
    "* ['x','xx','xxx','xxxx','y','yy','yyy','yyyy','z','zz','zzz','zzzz']\n",
    "* ['x','y','z','xx','yy','zz','xx','yy','zz','xxxx','yyyy','zzzz']\n",
    "* [[2],[3],[4],[3],[4],[5],[4],[5],[6]]\n",
    "* [ (1,1),(2,1),(3,1),(1,2),(2,2),(3,3),(1,3),(2,3),(3,3)]"
   ]
  },
  {
   "cell_type": "code",
   "execution_count": 3,
   "metadata": {},
   "outputs": [
    {
     "data": {
      "text/plain": [
       "['A', 'C', 'A', 'D', 'G', 'I', 'L', 'D']"
      ]
     },
     "execution_count": 3,
     "metadata": {},
     "output_type": "execute_result"
    }
   ],
   "source": [
    "string = \"ACADGILD\"\n",
    "ex_lst = [string[i] for i in range(len(string))]\n",
    "ex_lst"
   ]
  },
  {
   "cell_type": "code",
   "execution_count": 4,
   "metadata": {},
   "outputs": [
    {
     "data": {
      "text/plain": [
       "['x', 'xx', 'xxx', 'xxxx', 'y', 'yy', 'yyy', 'yyyy', 'z', 'zz', 'zzz', 'zzzz']"
      ]
     },
     "execution_count": 4,
     "metadata": {},
     "output_type": "execute_result"
    }
   ],
   "source": [
    "data = \"xyz\"\n",
    "\n",
    "lst = []\n",
    "digi_count = 0\n",
    "while True:\n",
    "    if (digi_count == 3):\n",
    "        break\n",
    "    else:\n",
    "        for i in range(1,5):\n",
    "            lst.append(i * data[digi_count])\n",
    "        digi_count = digi_count + 1\n",
    "lst"
   ]
  },
  {
   "cell_type": "code",
   "execution_count": 5,
   "metadata": {},
   "outputs": [
    {
     "data": {
      "text/plain": [
       "['x', 'y', 'z', 'xx', 'yy', 'zz', 'xxx', 'yyy', 'zzz', 'xxxx', 'yyyy', 'zzzz']"
      ]
     },
     "execution_count": 5,
     "metadata": {},
     "output_type": "execute_result"
    }
   ],
   "source": [
    "data = \"xyz\"\n",
    "\n",
    "lst = []\n",
    "digi_count = 1\n",
    "while True:\n",
    "    if (digi_count == 5):\n",
    "        break\n",
    "    else:\n",
    "        for i in range(3):\n",
    "            lst.append(digi_count * data[i])\n",
    "        digi_count = digi_count + 1\n",
    "lst"
   ]
  },
  {
   "cell_type": "code",
   "execution_count": 6,
   "metadata": {},
   "outputs": [
    {
     "data": {
      "text/plain": [
       "[[2], [3], [4], [3], [4], [5], [4], [5], [6]]"
      ]
     },
     "execution_count": 6,
     "metadata": {},
     "output_type": "execute_result"
    }
   ],
   "source": [
    "lst = []\n",
    "start = 2\n",
    "while True:\n",
    "    if (start == 5):\n",
    "        break\n",
    "    else:\n",
    "        for i in range(3):\n",
    "            lst.append([start+i])\n",
    "        start = start + 1\n",
    "lst\n",
    "        \n",
    "    "
   ]
  },
  {
   "cell_type": "code",
   "execution_count": 7,
   "metadata": {},
   "outputs": [
    {
     "data": {
      "text/plain": [
       "[(1, 1), (1, 2), (1, 3), (2, 1), (2, 2), (2, 3), (3, 1), (3, 2), (3, 3)]"
      ]
     },
     "execution_count": 7,
     "metadata": {},
     "output_type": "execute_result"
    }
   ],
   "source": [
    "lst = []\n",
    "for i in range(1,4):\n",
    "    for j in range(1,4):\n",
    "        lst.append((i,j))\n",
    "lst"
   ]
  },
  {
   "cell_type": "markdown",
   "metadata": {},
   "source": [
    "### Task 2.1"
   ]
  },
  {
   "cell_type": "code",
   "execution_count": 8,
   "metadata": {},
   "outputs": [
    {
     "data": {
      "text/plain": [
       "20.493901531919196"
      ]
     },
     "execution_count": 8,
     "metadata": {},
     "output_type": "execute_result"
    }
   ],
   "source": [
    "class area:\n",
    "    def __init__(self,s,a,b,c):\n",
    "        self.s = s\n",
    "        self.a = a\n",
    "        self.b = b\n",
    "        self.c = c\n",
    "        \n",
    "    def traingle_area(self):\n",
    "        area = (self.s * (self.s-self.a) * (self.s-self.b) * (self.s-self.c)) ** 0.5\n",
    "        return area\n",
    "    \n",
    "tri_area = area(7,2,3,4)\n",
    "get_area = tri_area.traingle_area()\n",
    "get_area"
   ]
  },
  {
   "cell_type": "markdown",
   "metadata": {},
   "source": [
    "### TAsk 2.2"
   ]
  },
  {
   "cell_type": "code",
   "execution_count": 9,
   "metadata": {},
   "outputs": [
    {
     "data": {
      "text/plain": [
       "['elephant', 'harshita']"
      ]
     },
     "execution_count": 9,
     "metadata": {},
     "output_type": "execute_result"
    }
   ],
   "source": [
    "lst_words = [\"cat\",\"apple\",\"elephant\",\"india\",\"harshita\"]\n",
    "length = 5\n",
    "def filter_long_words(iter_word,n):\n",
    "    '''\n",
    "    this function return the words from a provided list of words,\n",
    "    which are longer than the provided integer threshold\n",
    "    input:\n",
    "     iter_word : iterable words list\n",
    "     n = integer\n",
    "     out: word/wordlist\n",
    "    '''\n",
    "    lst = []\n",
    "    for data in iter_word:\n",
    "        if len(data) > n:\n",
    "            lst.append(data)\n",
    "    return lst\n",
    "\n",
    "filter_long_words(lst_words,length)\n",
    "        "
   ]
  },
  {
   "cell_type": "markdown",
   "metadata": {},
   "source": [
    "### Task 2.3"
   ]
  },
  {
   "cell_type": "code",
   "execution_count": 10,
   "metadata": {},
   "outputs": [
    {
     "data": {
      "text/plain": [
       "[3, 5, 8, 5, 8]"
      ]
     },
     "execution_count": 10,
     "metadata": {},
     "output_type": "execute_result"
    }
   ],
   "source": [
    "lst_words = [\"cat\",\"apple\",\"elephant\",\"india\",\"harshita\"]\n",
    "def words_len(iter_word,n):\n",
    "    '''\n",
    "    this function return the length of provided word/words\n",
    "    input:\n",
    "     iter_word : iterable words list\n",
    "     out: int list\n",
    "    '''\n",
    "    lst = []\n",
    "    for data in iter_word:\n",
    "        lst.append(len(data))\n",
    "    return lst\n",
    "\n",
    "words_len(lst_words,length)"
   ]
  },
  {
   "cell_type": "markdown",
   "metadata": {},
   "source": [
    "### Task 2.4"
   ]
  },
  {
   "cell_type": "code",
   "execution_count": 11,
   "metadata": {},
   "outputs": [
    {
     "data": {
      "text/plain": [
       "False"
      ]
     },
     "execution_count": 11,
     "metadata": {},
     "output_type": "execute_result"
    }
   ],
   "source": [
    "def check_vowel(char):\n",
    "    '''\n",
    "    this function takes a single character as a input and return True if it is vowel otherwise false\n",
    "    input : character\n",
    "    output: bool\n",
    "    '''\n",
    "    vowel = [\"a\",\"e\",\"i\",\"o\",\"u\"]\n",
    "    inp = (str(char)).lower()\n",
    "    if inp in vowel:\n",
    "        return True\n",
    "    else:\n",
    "        return False\n",
    "\n",
    "check_vowel(\"C\")\n",
    "    "
   ]
  },
  {
   "cell_type": "code",
   "execution_count": null,
   "metadata": {},
   "outputs": [],
   "source": []
  }
 ],
 "metadata": {
  "kernelspec": {
   "display_name": "Python(ineuron)",
   "language": "python",
   "name": "venv"
  },
  "language_info": {
   "codemirror_mode": {
    "name": "ipython",
    "version": 3
   },
   "file_extension": ".py",
   "mimetype": "text/x-python",
   "name": "python",
   "nbconvert_exporter": "python",
   "pygments_lexer": "ipython3",
   "version": "3.6.9"
  }
 },
 "nbformat": 4,
 "nbformat_minor": 4
}
