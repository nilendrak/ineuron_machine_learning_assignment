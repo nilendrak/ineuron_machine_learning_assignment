{
 "cells": [
  {
   "cell_type": "markdown",
   "metadata": {},
   "source": [
    "# Session 1 : Assignment 1"
   ]
  },
  {
   "cell_type": "markdown",
   "metadata": {},
   "source": [
    "## Problem Statement"
   ]
  },
  {
   "cell_type": "markdown",
   "metadata": {},
   "source": [
    "### Task 1.1"
   ]
  },
  {
   "cell_type": "markdown",
   "metadata": {},
   "source": [
    "* No valid __link__ is avilable"
   ]
  },
  {
   "cell_type": "markdown",
   "metadata": {},
   "source": [
    "### Task 1.2"
   ]
  },
  {
   "cell_type": "code",
   "execution_count": 1,
   "metadata": {},
   "outputs": [
    {
     "name": "stdout",
     "output_type": "stream",
     "text": [
      "2002,2009,2016,2023,2037,2044,2051,2058,2072,2079,2086,2093,2107,2114,2121,2128,2142,2149,2156,2163,2177,2184,2191,2198,2212,2219,2226,2233,2247,2254,2261,2268,2282,2289,2296,2303,2317,2324,2331,2338,2352,2359,2366,2373,2387,2394,2401,2408,2422,2429,2436,2443,2457,2464,2471,2478,2492,2499,2506,2513,2527,2534,2541,2548,2562,2569,2576,2583,2597,2604,2611,2618,2632,2639,2646,2653,2667,2674,2681,2688,2702,2709,2716,2723,2737,2744,2751,2758,2772,2779,2786,2793,2807,2814,2821,2828,2842,2849,2856,2863,2877,2884,2891,2898,2912,2919,2926,2933,2947,2954,2961,2968,2982,2989,2996,3003,3017,3024,3031,3038,3052,3059,3066,3073,3087,3094,3101,3108,3122,3129,3136,3143,3157,3164,3171,3178,3192,3199\n"
     ]
    }
   ],
   "source": [
    "ex_list = []\n",
    "for i in range(2000,3201):\n",
    "    if ((i%7) == 0 and (i%5 != 0)):\n",
    "        ex_list.append(str(i))\n",
    " \n",
    "print(\",\".join(ex_list))"
   ]
  },
  {
   "cell_type": "markdown",
   "metadata": {},
   "source": [
    "### Task 1.3"
   ]
  },
  {
   "cell_type": "code",
   "execution_count": 2,
   "metadata": {},
   "outputs": [
    {
     "name": "stdout",
     "output_type": "stream",
     "text": [
      "enter your first name:nilendra\n",
      "enter your last name:kumar\n"
     ]
    },
    {
     "data": {
      "text/plain": [
       "'ramuk ardnelin'"
      ]
     },
     "execution_count": 2,
     "metadata": {},
     "output_type": "execute_result"
    }
   ],
   "source": [
    "def name_reverse():\n",
    "    '''\n",
    "    after run this function ask for 2 input string from std input and provide as reversed on std out\n",
    "    '''\n",
    "    first = input(\"enter your first name:\")\n",
    "    last = input(\"enter your last name:\")\n",
    "    name =  (str(first) + \" \" + str(last))\n",
    "    return name[::-1]\n",
    "name_reverse()"
   ]
  },
  {
   "cell_type": "code",
   "execution_count": 3,
   "metadata": {},
   "outputs": [
    {
     "name": "stdout",
     "output_type": "stream",
     "text": [
      "enter your first name:nilendra\n",
      "enter your last name:kumar\n"
     ]
    },
    {
     "data": {
      "text/plain": [
       "'ramuk ardnelin'"
      ]
     },
     "execution_count": 3,
     "metadata": {},
     "output_type": "execute_result"
    }
   ],
   "source": [
    "def name_reverse():\n",
    "    '''\n",
    "    after run this function ask for 2 input string from std input and provide as reversed on std out\n",
    "    '''\n",
    "    first = input(\"enter your first name:\")\n",
    "    last = input(\"enter your last name:\")\n",
    "    name =  (str(first) + \" \" + str(last))\n",
    "    return (\"\".join(reversed(name)))\n",
    "name_reverse()"
   ]
  },
  {
   "cell_type": "markdown",
   "metadata": {},
   "source": [
    "### Task 1.4"
   ]
  },
  {
   "cell_type": "code",
   "execution_count": 4,
   "metadata": {},
   "outputs": [
    {
     "data": {
      "text/plain": [
       "904.7786842338604"
      ]
     },
     "execution_count": 4,
     "metadata": {},
     "output_type": "execute_result"
    }
   ],
   "source": [
    "import math\n",
    "dia = 12\n",
    "volume = (4/3) * math.pi * (dia/2) * (dia/2) * (dia/2)\n",
    "volume"
   ]
  },
  {
   "cell_type": "markdown",
   "metadata": {},
   "source": [
    "### Task 2.1"
   ]
  },
  {
   "cell_type": "code",
   "execution_count": 5,
   "metadata": {},
   "outputs": [
    {
     "name": "stdout",
     "output_type": "stream",
     "text": [
      "please enter comma separated numbers:23,34,5,6,78\n"
     ]
    },
    {
     "data": {
      "text/plain": [
       "[23, 34, 5, 6, 78]"
      ]
     },
     "execution_count": 5,
     "metadata": {},
     "output_type": "execute_result"
    }
   ],
   "source": [
    "def comma_value_to_list():\n",
    "    '''\n",
    "    input: prompt for user input for numerical values separated by comma\n",
    "    return: numbers as a list\n",
    "    '''\n",
    "    list2 = []\n",
    "    string = str(input(\"please enter comma separated numbers:\"))\n",
    "    listing = (string.split(\",\"))\n",
    "    [list2.append(int(listing[i])) for i in range(len(listing))]\n",
    "    return list2\n",
    "comma_value_to_list()"
   ]
  },
  {
   "cell_type": "markdown",
   "metadata": {},
   "source": [
    "### Task 2.2"
   ]
  },
  {
   "cell_type": "code",
   "execution_count": 6,
   "metadata": {},
   "outputs": [
    {
     "name": "stdout",
     "output_type": "stream",
     "text": [
      "*\n",
      "\n",
      "**\n",
      "\n",
      "***\n",
      "\n",
      "****\n",
      "\n",
      "*****\n",
      "\n",
      "****\n",
      "\n",
      "***\n",
      "\n",
      "**\n",
      "\n",
      "*\n",
      "\n",
      "\n",
      "\n"
     ]
    }
   ],
   "source": [
    "count = 0\n",
    "for i in range(10):\n",
    "    if i >= 5:\n",
    "        count = count-1\n",
    "    else:\n",
    "        count = count+1\n",
    "    for c in range(count):\n",
    "        print(\"*\",end='')\n",
    "    print(\"\\n\")\n",
    "    \n",
    "    "
   ]
  },
  {
   "cell_type": "markdown",
   "metadata": {},
   "source": [
    "### Task 2.3"
   ]
  },
  {
   "cell_type": "code",
   "execution_count": 7,
   "metadata": {},
   "outputs": [
    {
     "name": "stdout",
     "output_type": "stream",
     "text": [
      "please input a word: India\n"
     ]
    },
    {
     "data": {
      "text/plain": [
       "'aidnI'"
      ]
     },
     "execution_count": 7,
     "metadata": {},
     "output_type": "execute_result"
    }
   ],
   "source": [
    "def reverse_inp():\n",
    "    '''\n",
    "    input : user input a word\n",
    "    return: reversed word\n",
    "    '''\n",
    "    data = input(\"please input a word: \")\n",
    "    return (data[::-1])\n",
    "reverse_inp()"
   ]
  },
  {
   "cell_type": "markdown",
   "metadata": {},
   "source": [
    "### Task 2.4"
   ]
  },
  {
   "cell_type": "code",
   "execution_count": 8,
   "metadata": {},
   "outputs": [
    {
     "name": "stdout",
     "output_type": "stream",
     "text": [
      "WE,THE PEOPLE OF INDIA \n",
      " \t having solemnly resolved to constitute India into a SOVEREIGN, ! \n",
      "\t\t SOCIALIST,SECULER DEMOCRATIC REPUBLIC \n",
      "\t\t\t and to secure all of its citizens\n"
     ]
    }
   ],
   "source": [
    "print(\"WE,THE PEOPLE OF INDIA \\n \\t having solemnly resolved to constitute India into a SOVEREIGN, ! \\n\\t\\t SOCIALIST,SECULER DEMOCRATIC REPUBLIC \\n\\t\\t\\t and to secure all of its citizens\")"
   ]
  },
  {
   "cell_type": "code",
   "execution_count": null,
   "metadata": {},
   "outputs": [],
   "source": []
  }
 ],
 "metadata": {
  "kernelspec": {
   "display_name": "Python(ineuron)",
   "language": "python",
   "name": "venv"
  },
  "language_info": {
   "codemirror_mode": {
    "name": "ipython",
    "version": 3
   },
   "file_extension": ".py",
   "mimetype": "text/x-python",
   "name": "python",
   "nbconvert_exporter": "python",
   "pygments_lexer": "ipython3",
   "version": "3.6.9"
  }
 },
 "nbformat": 4,
 "nbformat_minor": 4
}
